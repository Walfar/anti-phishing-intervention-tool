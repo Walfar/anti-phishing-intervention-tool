{
 "cells": [
  {
   "cell_type": "markdown",
   "id": "704e49b0",
   "metadata": {},
   "source": [
    "## Pre-Processing"
   ]
  },
  {
   "cell_type": "code",
   "execution_count": 512,
   "id": "88e21f48",
   "metadata": {},
   "outputs": [],
   "source": [
    "import pandas as pd\n",
    "import numpy as np\n",
    "import warnings\n",
    "import scipy.stats as stats\n",
    "import datetime\n",
    "\n",
    "warnings.filterwarnings(\"ignore\")\n",
    "\n",
    "pre_intervention = pd.read_csv('datasets/pre_intervention.csv')\n",
    "post_intervention = pd.read_csv('datasets/post_intervention.csv')"
   ]
  },
  {
   "cell_type": "code",
   "execution_count": 513,
   "id": "4dd42056",
   "metadata": {},
   "outputs": [],
   "source": [
    "# Gets rid of unvalid participants\n",
    "def pre_process_df(df):\n",
    "    df = df.drop(df.index[0])\n",
    "    df = df.drop(df.index[0])\n",
    "    filtered_df = df[df['PROLIFIC_PID'].str.match(r'^[0-9a-fA-F]+$',na=False)]\n",
    "    filtered_df = filtered_df[filtered_df[\"PROLIFIC_PID\"].str.len() == 24]\n",
    "    return filtered_df"
   ]
  },
  {
   "cell_type": "code",
   "execution_count": 514,
   "id": "c5cfaab9",
   "metadata": {},
   "outputs": [],
   "source": [
    "pre_intervention_filtered = pre_process_df(pre_intervention)\n",
    "post_intervention_filtered = pre_process_df(post_intervention)"
   ]
  },
  {
   "cell_type": "code",
   "execution_count": 515,
   "id": "4d9d93a8",
   "metadata": {},
   "outputs": [],
   "source": [
    "merged_df = pd.merge(pre_intervention_filtered, post_intervention_filtered, on=\"PROLIFIC_PID\",how=\"inner\")"
   ]
  },
  {
   "cell_type": "code",
   "execution_count": 516,
   "id": "2af24c58",
   "metadata": {},
   "outputs": [],
   "source": [
    "def compute_practical_score(answer, resp):\n",
    "    return 2 if answer == resp else 0\n",
    "\n",
    "def classify_use_frequency_category(frequency_mail):\n",
    "    return 0 if frequency_mail in [\"less than once a week\", \"approximately once a week\"] else 1\n",
    "\n",
    "def classify_mail_quantity_category(quantity_mail):\n",
    "    return 0 if quantity_mail == \"Less than 5\" else 1\n",
    "\n",
    "def get_points_from_self_report(self_report):\n",
    "    if self_report == \"very high\":\n",
    "            return 1\n",
    "    elif self_report == \"rather high\":\n",
    "            return 0.5\n",
    "    elif self_report == \"medium\":\n",
    "            return 0.25\n",
    "    else:\n",
    "        return 0\n",
    "\n",
    "\n",
    "def determine_category(df,i,theory_score, practical_score, training_exp, frequency_mail, quantity_mail):\n",
    "    if theory_score < 20.5:\n",
    "        category = 0\n",
    "        score = theory_score\n",
    "    else:\n",
    "        score = theory_score + practical_score\n",
    "        if training_exp == \"Yes, once\":\n",
    "            score += 1\n",
    "        elif training_exp == \"Yes, more than once\":\n",
    "            score += 2\n",
    "        score += get_points_from_self_report(df[\"Q95_1_x\"].iloc[i]) \n",
    "        score += get_points_from_self_report(df[\"Q95_2_x\"].iloc[i]) \n",
    "        score += get_points_from_self_report(df[\"Q95_3_x\"].iloc[i]) \n",
    "        if score < 27.5:\n",
    "            category = 0 \n",
    "        else:\n",
    "            if score >= 39.5:\n",
    "                category = 2\n",
    "            else:\n",
    "                if frequency_mail == 0:\n",
    "                    if quantity_mail == 0:\n",
    "                        category = 2\n",
    "                    else:\n",
    "                        category = 1\n",
    "                else:\n",
    "                    category = 1                       \n",
    "    return category, score"
   ]
  },
  {
   "cell_type": "code",
   "execution_count": 517,
   "id": "648ab6b3",
   "metadata": {
    "scrolled": true
   },
   "outputs": [],
   "source": [
    "# Create new dataset that will only contain useful measures\n",
    "df = pd.DataFrame(columns=['prolific id', 'theory score', 'practical score', 'total score', 'category', 'new theory score', 'new practical score', 'new total score', 'new category', 'age group', 'education level', 'IT background','occupation', 'personality_1','personality_2','personality_3','personality_4','personality_5','personality_6','personality_7','personality_8','personality_9','personality_10'])\n",
    "for i in range(len(merged_df)):\n",
    "    practical_score = compute_practical_score(merged_df[\"Q111_x\"].iloc[i],\"Yes\")+compute_practical_score(merged_df[\"Q113_x\"].iloc[i],\"Yes\")+compute_practical_score(merged_df[\"Q115_x\"].iloc[i],\"Yes\")+compute_practical_score(merged_df[\"Q117_x\"].iloc[i],\"No\")+compute_practical_score(merged_df[\"Q119_x\"].iloc[i],\"Yes\")\n",
    "    new_practical_score = compute_practical_score(merged_df[\"Q111_y\"].iloc[i],\"Yes\")+compute_practical_score(merged_df[\"Q113_y\"].iloc[i],\"Yes\")+compute_practical_score(merged_df[\"Q115_y\"].iloc[i],\"Yes\")+compute_practical_score(merged_df[\"Q117_y\"].iloc[i],\"No\")+compute_practical_score(merged_df[\"Q119_y\"].iloc[i],\"Yes\")\n",
    "    category, total_score = determine_category(merged_df,i,float(merged_df[\"SC0_x\"].iloc[i]), practical_score, merged_df[\"Q94\"].iloc[i], merged_df[\"Q67\"].iloc[i], merged_df[\"Q69\"].iloc[i])\n",
    "    new_category, new_total_score = determine_category(merged_df,i,float(merged_df[\"SC0_y\"].iloc[i]), new_practical_score, merged_df[\"Q94\"].iloc[i], merged_df[\"Q67\"].iloc[i], merged_df[\"Q69\"].iloc[i])\n",
    "    df = df.append({'prolific id': merged_df[\"PROLIFIC_PID\"].iloc[i], 'theory score': float(merged_df[\"SC0_x\"].iloc[i]), 'practical score': practical_score, 'total score': total_score, 'category': category, 'new theory score': float(merged_df[\"SC0_y\"].iloc[i]), 'new practical score': new_practical_score, 'new total score': new_total_score, 'new category': new_category, 'age group': merged_df[\"Q79\"].iloc[i], \"education level\": merged_df[\"Q3\"].iloc[i], \"IT background\": merged_df[\"Q6.8\"].iloc[i], \"occupation\": merged_df[\"Q6.7\"].iloc[i], 'personality_1': merged_df[\"personality_prov_1\"].iloc[i],'personality_2': merged_df[\"personality_prov_2\"].iloc[i],'personality_3': merged_df[\"personality_prov_3\"].iloc[i],'personality_4': merged_df[\"personality_prov_4\"].iloc[i],'personality_5': merged_df[\"personality_prov_5\"].iloc[i],'personality_6': merged_df[\"personality_prov_6\"].iloc[i],'personality_7': merged_df[\"personality_prov_7\"].iloc[i],'personality_8': merged_df[\"personality_prov_8\"].iloc[i],'personality_9': merged_df[\"personality_prov_9\"].iloc[i],'personality_10': merged_df[\"personality_prov_10\"].iloc[i]}, ignore_index=True)"
   ]
  },
  {
   "cell_type": "markdown",
   "id": "1a22284e",
   "metadata": {},
   "source": [
    "## Descriptive Statistics"
   ]
  },
  {
   "cell_type": "code",
   "execution_count": 518,
   "id": "01bda228",
   "metadata": {
    "scrolled": true
   },
   "outputs": [
    {
     "data": {
      "text/plain": [
       "1    0.56\n",
       "2    0.35\n",
       "0    0.09\n",
       "Name: category, dtype: float64"
      ]
     },
     "execution_count": 518,
     "metadata": {},
     "output_type": "execute_result"
    }
   ],
   "source": [
    "#proportion of each category\n",
    "value_counts = df['category'].value_counts()\n",
    "value_counts / 100"
   ]
  },
  {
   "cell_type": "code",
   "execution_count": 519,
   "id": "7a355161",
   "metadata": {},
   "outputs": [
    {
     "data": {
      "text/plain": [
       "2    0.88\n",
       "1    0.10\n",
       "0    0.02\n",
       "Name: new category, dtype: float64"
      ]
     },
     "execution_count": 519,
     "metadata": {},
     "output_type": "execute_result"
    }
   ],
   "source": [
    "# proportion of each category after interventions \n",
    "value_counts = df['new category'].value_counts()\n",
    "value_counts / 100"
   ]
  },
  {
   "cell_type": "code",
   "execution_count": 520,
   "id": "51a4402b",
   "metadata": {},
   "outputs": [],
   "source": [
    "def compute_score_diff(df):\n",
    "    df[\"total score diff\"] = df['new total score'] - df['total score']\n",
    "    df[\"theory score diff\"] = df['new theory score'] - df['theory score']\n",
    "    df[\"practical score diff\"] = df['new practical score'] - df['practical score']\n",
    "    df[\"category diff\"] = df[\"new category\"] - df[\"category\"]\n",
    "    return df"
   ]
  },
  {
   "cell_type": "code",
   "execution_count": 521,
   "id": "b38ace73",
   "metadata": {},
   "outputs": [],
   "source": [
    "df = compute_score_diff(df)"
   ]
  },
  {
   "cell_type": "code",
   "execution_count": 522,
   "id": "a2de004e",
   "metadata": {},
   "outputs": [],
   "source": [
    "def compute_mean_std_for_score_diff(df, variable):\n",
    "    df_stats = df.groupby('category')[variable].agg(['mean', 'std'])\n",
    "    confidence = 0.95\n",
    "    data_grouped = df.groupby('category')[variable]\n",
    "    df_stats['Confidence_Interval'] = data_grouped.apply(lambda x: stats.t.interval(confidence, len(x)-1, loc=x.mean(), scale=stats.sem(x)))\n",
    "    return df_stats"
   ]
  },
  {
   "cell_type": "code",
   "execution_count": 523,
   "id": "4ed9a0ab",
   "metadata": {
    "scrolled": true
   },
   "outputs": [
    {
     "data": {
      "text/html": [
       "<div>\n",
       "<style scoped>\n",
       "    .dataframe tbody tr th:only-of-type {\n",
       "        vertical-align: middle;\n",
       "    }\n",
       "\n",
       "    .dataframe tbody tr th {\n",
       "        vertical-align: top;\n",
       "    }\n",
       "\n",
       "    .dataframe thead th {\n",
       "        text-align: right;\n",
       "    }\n",
       "</style>\n",
       "<table border=\"1\" class=\"dataframe\">\n",
       "  <thead>\n",
       "    <tr style=\"text-align: right;\">\n",
       "      <th></th>\n",
       "      <th>mean</th>\n",
       "      <th>std</th>\n",
       "      <th>Confidence_Interval</th>\n",
       "    </tr>\n",
       "    <tr>\n",
       "      <th>category</th>\n",
       "      <th></th>\n",
       "      <th></th>\n",
       "      <th></th>\n",
       "    </tr>\n",
       "  </thead>\n",
       "  <tbody>\n",
       "    <tr>\n",
       "      <th>0</th>\n",
       "      <td>22.105556</td>\n",
       "      <td>14.476175</td>\n",
       "      <td>(10.97818214966566, 33.23292896144545)</td>\n",
       "    </tr>\n",
       "    <tr>\n",
       "      <th>1</th>\n",
       "      <td>10.853571</td>\n",
       "      <td>5.659874</td>\n",
       "      <td>(9.337847389506427, 12.369295467636428)</td>\n",
       "    </tr>\n",
       "    <tr>\n",
       "      <th>2</th>\n",
       "      <td>6.694286</td>\n",
       "      <td>4.402602</td>\n",
       "      <td>(5.181938889006475, 8.206632539564954)</td>\n",
       "    </tr>\n",
       "  </tbody>\n",
       "</table>\n",
       "</div>"
      ],
      "text/plain": [
       "               mean        std                      Confidence_Interval\n",
       "category                                                               \n",
       "0         22.105556  14.476175   (10.97818214966566, 33.23292896144545)\n",
       "1         10.853571   5.659874  (9.337847389506427, 12.369295467636428)\n",
       "2          6.694286   4.402602   (5.181938889006475, 8.206632539564954)"
      ]
     },
     "execution_count": 523,
     "metadata": {},
     "output_type": "execute_result"
    }
   ],
   "source": [
    "compute_mean_std_for_score_diff(df,'total score diff')"
   ]
  },
  {
   "cell_type": "code",
   "execution_count": 524,
   "id": "ac1e4e83",
   "metadata": {},
   "outputs": [
    {
     "data": {
      "text/html": [
       "<div>\n",
       "<style scoped>\n",
       "    .dataframe tbody tr th:only-of-type {\n",
       "        vertical-align: middle;\n",
       "    }\n",
       "\n",
       "    .dataframe tbody tr th {\n",
       "        vertical-align: top;\n",
       "    }\n",
       "\n",
       "    .dataframe thead th {\n",
       "        text-align: right;\n",
       "    }\n",
       "</style>\n",
       "<table border=\"1\" class=\"dataframe\">\n",
       "  <thead>\n",
       "    <tr style=\"text-align: right;\">\n",
       "      <th></th>\n",
       "      <th>mean</th>\n",
       "      <th>std</th>\n",
       "      <th>Confidence_Interval</th>\n",
       "    </tr>\n",
       "    <tr>\n",
       "      <th>category</th>\n",
       "      <th></th>\n",
       "      <th></th>\n",
       "      <th></th>\n",
       "    </tr>\n",
       "  </thead>\n",
       "  <tbody>\n",
       "    <tr>\n",
       "      <th>0</th>\n",
       "      <td>0.888889</td>\n",
       "      <td>2.666667</td>\n",
       "      <td>(-1.160892564474107, 2.9386703422518847)</td>\n",
       "    </tr>\n",
       "    <tr>\n",
       "      <th>1</th>\n",
       "      <td>0.821429</td>\n",
       "      <td>2.115803</td>\n",
       "      <td>(0.2548127623663914, 1.3880443804907514)</td>\n",
       "    </tr>\n",
       "    <tr>\n",
       "      <th>2</th>\n",
       "      <td>-0.285714</td>\n",
       "      <td>1.296407</td>\n",
       "      <td>(-0.7310458249782839, 0.1596172535497124)</td>\n",
       "    </tr>\n",
       "  </tbody>\n",
       "</table>\n",
       "</div>"
      ],
      "text/plain": [
       "              mean       std                        Confidence_Interval\n",
       "category                                                               \n",
       "0         0.888889  2.666667   (-1.160892564474107, 2.9386703422518847)\n",
       "1         0.821429  2.115803   (0.2548127623663914, 1.3880443804907514)\n",
       "2        -0.285714  1.296407  (-0.7310458249782839, 0.1596172535497124)"
      ]
     },
     "execution_count": 524,
     "metadata": {},
     "output_type": "execute_result"
    }
   ],
   "source": [
    "compute_mean_std_for_score_diff(df,'practical score diff')"
   ]
  },
  {
   "cell_type": "code",
   "execution_count": 525,
   "id": "87039ece",
   "metadata": {},
   "outputs": [
    {
     "data": {
      "text/html": [
       "<div>\n",
       "<style scoped>\n",
       "    .dataframe tbody tr th:only-of-type {\n",
       "        vertical-align: middle;\n",
       "    }\n",
       "\n",
       "    .dataframe tbody tr th {\n",
       "        vertical-align: top;\n",
       "    }\n",
       "\n",
       "    .dataframe thead th {\n",
       "        text-align: right;\n",
       "    }\n",
       "</style>\n",
       "<table border=\"1\" class=\"dataframe\">\n",
       "  <thead>\n",
       "    <tr style=\"text-align: right;\">\n",
       "      <th></th>\n",
       "      <th>mean</th>\n",
       "      <th>std</th>\n",
       "      <th>Confidence_Interval</th>\n",
       "    </tr>\n",
       "    <tr>\n",
       "      <th>category</th>\n",
       "      <th></th>\n",
       "      <th></th>\n",
       "      <th></th>\n",
       "    </tr>\n",
       "  </thead>\n",
       "  <tbody>\n",
       "    <tr>\n",
       "      <th>0</th>\n",
       "      <td>15.022222</td>\n",
       "      <td>13.361023</td>\n",
       "      <td>(4.752030539238158, 25.29241390520629)</td>\n",
       "    </tr>\n",
       "    <tr>\n",
       "      <th>1</th>\n",
       "      <td>10.032143</td>\n",
       "      <td>4.737898</td>\n",
       "      <td>(8.763325548274926, 11.300960166010787)</td>\n",
       "    </tr>\n",
       "    <tr>\n",
       "      <th>2</th>\n",
       "      <td>6.980000</td>\n",
       "      <td>3.872512</td>\n",
       "      <td>(5.649745418918194, 8.310254581081805)</td>\n",
       "    </tr>\n",
       "  </tbody>\n",
       "</table>\n",
       "</div>"
      ],
      "text/plain": [
       "               mean        std                      Confidence_Interval\n",
       "category                                                               \n",
       "0         15.022222  13.361023   (4.752030539238158, 25.29241390520629)\n",
       "1         10.032143   4.737898  (8.763325548274926, 11.300960166010787)\n",
       "2          6.980000   3.872512   (5.649745418918194, 8.310254581081805)"
      ]
     },
     "execution_count": 525,
     "metadata": {},
     "output_type": "execute_result"
    }
   ],
   "source": [
    "compute_mean_std_for_score_diff(df,'theory score diff')"
   ]
  },
  {
   "cell_type": "code",
   "execution_count": 526,
   "id": "5c6d76ad",
   "metadata": {},
   "outputs": [],
   "source": [
    "def compute_desc_stats(df):   \n",
    "    stats = df.groupby('category')['total score'].agg(['mean', 'std', 'median', 'min', 'max'])\n",
    "    stats['25th Percentile'] = df.groupby('category')['total score'].quantile(0.25)\n",
    "    stats['75th Percentile'] = df.groupby('category')['total score'].quantile(0.75)\n",
    "    return stats"
   ]
  },
  {
   "cell_type": "code",
   "execution_count": 527,
   "id": "53963319",
   "metadata": {},
   "outputs": [
    {
     "data": {
      "text/html": [
       "<div>\n",
       "<style scoped>\n",
       "    .dataframe tbody tr th:only-of-type {\n",
       "        vertical-align: middle;\n",
       "    }\n",
       "\n",
       "    .dataframe tbody tr th {\n",
       "        vertical-align: top;\n",
       "    }\n",
       "\n",
       "    .dataframe thead th {\n",
       "        text-align: right;\n",
       "    }\n",
       "</style>\n",
       "<table border=\"1\" class=\"dataframe\">\n",
       "  <thead>\n",
       "    <tr style=\"text-align: right;\">\n",
       "      <th></th>\n",
       "      <th>mean</th>\n",
       "      <th>std</th>\n",
       "      <th>median</th>\n",
       "      <th>min</th>\n",
       "      <th>max</th>\n",
       "      <th>25th Percentile</th>\n",
       "      <th>75th Percentile</th>\n",
       "    </tr>\n",
       "    <tr>\n",
       "      <th>category</th>\n",
       "      <th></th>\n",
       "      <th></th>\n",
       "      <th></th>\n",
       "      <th></th>\n",
       "      <th></th>\n",
       "      <th></th>\n",
       "      <th></th>\n",
       "    </tr>\n",
       "  </thead>\n",
       "  <tbody>\n",
       "    <tr>\n",
       "      <th>0</th>\n",
       "      <td>15.866667</td>\n",
       "      <td>6.230770</td>\n",
       "      <td>17.900</td>\n",
       "      <td>0.0</td>\n",
       "      <td>19.90</td>\n",
       "      <td>17.100</td>\n",
       "      <td>18.600</td>\n",
       "    </tr>\n",
       "    <tr>\n",
       "      <th>1</th>\n",
       "      <td>34.768750</td>\n",
       "      <td>3.096722</td>\n",
       "      <td>35.325</td>\n",
       "      <td>28.5</td>\n",
       "      <td>39.15</td>\n",
       "      <td>32.375</td>\n",
       "      <td>37.675</td>\n",
       "    </tr>\n",
       "    <tr>\n",
       "      <th>2</th>\n",
       "      <td>43.338571</td>\n",
       "      <td>2.825698</td>\n",
       "      <td>42.850</td>\n",
       "      <td>39.5</td>\n",
       "      <td>50.10</td>\n",
       "      <td>40.800</td>\n",
       "      <td>44.925</td>\n",
       "    </tr>\n",
       "  </tbody>\n",
       "</table>\n",
       "</div>"
      ],
      "text/plain": [
       "               mean       std  median   min    max  25th Percentile  \\\n",
       "category                                                              \n",
       "0         15.866667  6.230770  17.900   0.0  19.90           17.100   \n",
       "1         34.768750  3.096722  35.325  28.5  39.15           32.375   \n",
       "2         43.338571  2.825698  42.850  39.5  50.10           40.800   \n",
       "\n",
       "          75th Percentile  \n",
       "category                   \n",
       "0                  18.600  \n",
       "1                  37.675  \n",
       "2                  44.925  "
      ]
     },
     "execution_count": 527,
     "metadata": {},
     "output_type": "execute_result"
    }
   ],
   "source": [
    "compute_desc_stats(df)"
   ]
  },
  {
   "cell_type": "markdown",
   "id": "9024973f",
   "metadata": {},
   "source": [
    "## Hypothesis Testing"
   ]
  },
  {
   "cell_type": "code",
   "execution_count": 528,
   "id": "9cb3b8b3",
   "metadata": {
    "scrolled": true
   },
   "outputs": [
    {
     "name": "stdout",
     "output_type": "stream",
     "text": [
      "T-Test: t(8) = 4.581, p = 0.002 Group 0\n",
      "T-Test: t(55) = 14.350, p = 0.000 Group 1\n",
      "T-Test: t(34) = 8.996, p = 0.000 Group 2\n",
      "Chi-Square Test: chi2 = 21.169, p = 0.000\n"
     ]
    }
   ],
   "source": [
    "# one-sample t-test for score differences for each group\n",
    "grouped_data = df.groupby('category')['total score diff']\n",
    "t_statistic_0, p_value_0 = stats.ttest_1samp(grouped_data.get_group(0), popmean=0)\n",
    "t_statistic_1, p_value_1 = stats.ttest_1samp(grouped_data.get_group(1), popmean=0)\n",
    "t_statistic_2, p_value_2 = stats.ttest_1samp(grouped_data.get_group(2), popmean=0)\n",
    "\n",
    "n_0 = len(grouped_data.get_group(0))\n",
    "n_1 = len(grouped_data.get_group(1))\n",
    "n_2 = len(grouped_data.get_group(2))\n",
    "\n",
    "# Perform chi-square test for category changes\n",
    "observed = pd.crosstab(df['category'], df['new category'])\n",
    "chi2_stat, p_value, _, _ = stats.chi2_contingency(observed)\n",
    "\n",
    "# Print the test results\n",
    "print(\"T-Test: t({}) = {:.3f}, p = {:.3f} Group 0\".format(n_0 - 1,t_statistic_0, p_value_0))\n",
    "print(\"T-Test: t({}) = {:.3f}, p = {:.3f} Group 1\".format(n_1 - 1,t_statistic_1, p_value_1))\n",
    "print(\"T-Test: t({}) = {:.3f}, p = {:.3f} Group 2\".format(n_2 - 1,t_statistic_2, p_value_2))\n",
    "\n",
    "print(\"Chi-Square Test: chi2 = {:.3f}, p = {:.3f}\".format(chi2_stat, p_value))"
   ]
  },
  {
   "cell_type": "code",
   "execution_count": 529,
   "id": "96c67ad4",
   "metadata": {},
   "outputs": [],
   "source": [
    "def  ind_2_samp_t_test(df, cat1, cat2, n1, n2):\n",
    "    category_0_scores = df.loc[df['category'] == cat1, 'total score diff']\n",
    "    category_1_scores = df.loc[df['category'] == cat2, 'total score diff']\n",
    "    \n",
    "    # Calculate degrees of freedom\n",
    "    degf = n1 + n2 - 2\n",
    "    \n",
    "    # Perform independent two-sample t-test\n",
    "    t_statistic, p_value = stats.ttest_ind(category_0_scores, category_1_scores)\n",
    "\n",
    "    # Perform independ two-sample t-test\n",
    "    print(\"Independent 2-Sample t-Test: t({}) = {:.3f}, p = {:.3f}\".format(degf,t_statistic,p_value))"
   ]
  },
  {
   "cell_type": "code",
   "execution_count": 530,
   "id": "5833082d",
   "metadata": {
    "scrolled": true
   },
   "outputs": [
    {
     "name": "stdout",
     "output_type": "stream",
     "text": [
      "Independent 2-Sample t-Test: t(63) = 4.241, p = 0.000\n",
      "Independent 2-Sample t-Test: t(89) = 3.701, p = 0.000\n",
      "Independent 2-Sample t-Test: t(42) = 5.530, p = 0.000\n"
     ]
    }
   ],
   "source": [
    "ind_2_samp_t_test(df,0,1,n_0,n_1)\n",
    "ind_2_samp_t_test(df,1,2,n_1,n_2)\n",
    "ind_2_samp_t_test(df,0,2,n_0,n_2)"
   ]
  },
  {
   "cell_type": "markdown",
   "id": "723a1251",
   "metadata": {},
   "source": [
    "## Correlation Analysis (UNUSED)"
   ]
  },
  {
   "cell_type": "code",
   "execution_count": 531,
   "id": "568fca39",
   "metadata": {},
   "outputs": [],
   "source": [
    "from scipy.stats import f_oneway\n",
    "\n",
    "def anova(df,mapping,variable1,variable2):\n",
    "    # Perform one-way ANOVA test\n",
    "    grouped_data = [df[df[variable1] == v][variable2] for v in mapping.keys()]\n",
    "    f_statistic, p_value = f_oneway(*grouped_data)\n",
    "    print(\"ANOVA: F = {:.3f}, p-value = {:.3f}\".format(f_statistic, p_value))"
   ]
  },
  {
   "cell_type": "code",
   "execution_count": 532,
   "id": "b43fa494",
   "metadata": {},
   "outputs": [
    {
     "name": "stdout",
     "output_type": "stream",
     "text": [
      "ANOVA: F = nan, p-value = nan\n"
     ]
    }
   ],
   "source": [
    "age_mapping = {\n",
    "    \"18-25\": 1,\n",
    "    \"26-35\": 2,\n",
    "    \"36-45\": 3,\n",
    "    \"46-55\": 4,\n",
    "    \"56-65\": 5,\n",
    "    \"66-75\": 6,\n",
    "    \">75\": 7\n",
    "}\n",
    "# Imbalanced groups -> invalid ANOVA\n",
    "anova(df_,age_mapping,'age group','total score diff')"
   ]
  },
  {
   "cell_type": "code",
   "execution_count": 533,
   "id": "ecbef55d",
   "metadata": {},
   "outputs": [],
   "source": [
    "merged_group = pd.concat([df_[df_['age group'] == '56-65'],\n",
    "                          df_[df_['age group'] == '66-75'],\n",
    "                          df_[df_['age group'] == '>75']])\n",
    "\n",
    "merged_group['age group'] = '>56'\n",
    "\n",
    "df_ = df_[df_['age group'] != '56-65']\n",
    "df_ = df_[df_['age group'] != '66-75']\n",
    "df_ = df_[df_['age group'] != '>75']\n",
    "\n",
    "df_ = pd.concat([df_, merged_group])"
   ]
  },
  {
   "cell_type": "code",
   "execution_count": 534,
   "id": "9f194b71",
   "metadata": {},
   "outputs": [],
   "source": [
    "age_mapping = {\n",
    "    \"18-25\": 1,\n",
    "    \"26-35\": 2,\n",
    "    \"36-45\": 3,\n",
    "    \"46-55\": 4,\n",
    "    \">56\": 5,\n",
    "}"
   ]
  },
  {
   "cell_type": "code",
   "execution_count": 535,
   "id": "1da9a974",
   "metadata": {},
   "outputs": [],
   "source": [
    "def compute_anovas(df,mapping,variable):\n",
    "    print(\"Total score diff:\")\n",
    "    anova(df,mapping,variable,'total score diff')\n",
    "    print(\"Category diff:\")\n",
    "    anova(df,mapping,variable,'category diff')\n",
    "    print(\"Total score:\")\n",
    "    anova(df,mapping,variable,'total score')\n",
    "    print(\"Category:\")\n",
    "    anova(df,mapping,variable,'category')"
   ]
  },
  {
   "cell_type": "code",
   "execution_count": 536,
   "id": "d6a7b013",
   "metadata": {},
   "outputs": [
    {
     "name": "stdout",
     "output_type": "stream",
     "text": [
      "Total score diff:\n",
      "ANOVA: F = 0.431, p-value = 0.786\n",
      "Category diff:\n",
      "ANOVA: F = 0.743, p-value = 0.565\n",
      "Total score:\n",
      "ANOVA: F = 0.270, p-value = 0.897\n",
      "Category:\n",
      "ANOVA: F = 0.647, p-value = 0.631\n"
     ]
    }
   ],
   "source": [
    "compute_anovas(df_,age_mapping,\"age group\")"
   ]
  },
  {
   "cell_type": "markdown",
   "id": "966b555b",
   "metadata": {},
   "source": [
    "## Regression Analysis"
   ]
  },
  {
   "cell_type": "code",
   "execution_count": 540,
   "id": "4b0d9afe",
   "metadata": {},
   "outputs": [],
   "source": [
    "import statsmodels.api as sm\n",
    "\n",
    "def ols_regression(df):\n",
    "    X_age = pd.get_dummies(df['age group'], prefix='age')\n",
    "    X_education = pd.get_dummies(df['education level'], prefix='education')\n",
    "    X_background = pd.get_dummies(df['IT background'], prefix='IT background')\n",
    "    X_occupation = pd.get_dummies(df['occupation'], prefix='occupation')\n",
    "\n",
    "    X = pd.concat([X_age, X_education, X_background,X_occupation], axis=1)\n",
    "\n",
    "    X = sm.add_constant(X)\n",
    "    y = df['total score diff']\n",
    "    model = sm.OLS(y, X)\n",
    "    results = model.fit()\n",
    "    print(results.summary())"
   ]
  },
  {
   "cell_type": "code",
   "execution_count": 541,
   "id": "31c07a0b",
   "metadata": {},
   "outputs": [],
   "source": [
    "def ols_regression_personality(df,var):\n",
    "    X_personality_1 = pd.get_dummies(df['personality_1'],prefix=\"personality1\")\n",
    "    X_personality_2 = pd.get_dummies(df['personality_2'],prefix=\"personality2\")\n",
    "    X_personality_3 = pd.get_dummies(df['personality_3'],prefix=\"personality3\")\n",
    "    X_personality_4 = pd.get_dummies(df['personality_4'],prefix=\"personality4\")\n",
    "    X_personality_5 = pd.get_dummies(df['personality_5'],prefix=\"personality5\")\n",
    "    X_personality_6 = pd.get_dummies(df['personality_6'],prefix=\"personality6\")\n",
    "    X_personality_7 = pd.get_dummies(df['personality_7'],prefix=\"personality7\")\n",
    "    X_personality_8 = pd.get_dummies(df['personality_8'],prefix=\"personality8\")\n",
    "    X_personality_9 = pd.get_dummies(df['personality_9'],prefix=\"personality9\")\n",
    "    X_personality_10 = pd.get_dummies(df['personality_10'],prefix=\"personality10\")\n",
    "    X = pd.concat([X_personality_1, X_personality_2, X_personality_3, X_personality_4, X_personality_5, X_personality_6, X_personality_7, X_personality_8, X_personality_9, X_personality_10], axis=1)\n",
    "    X = sm.add_constant(X)\n",
    "    y = df[var]\n",
    "    model = sm.OLS(y, X)\n",
    "    results = model.fit()\n",
    "    print(results.summary())"
   ]
  },
  {
   "cell_type": "code",
   "execution_count": 542,
   "id": "bcf5a03d",
   "metadata": {
    "scrolled": false
   },
   "outputs": [
    {
     "name": "stdout",
     "output_type": "stream",
     "text": [
      "                            OLS Regression Results                            \n",
      "==============================================================================\n",
      "Dep. Variable:       total score diff   R-squared:                       0.191\n",
      "Model:                            OLS   Adj. R-squared:                 -0.013\n",
      "Method:                 Least Squares   F-statistic:                    0.9354\n",
      "Date:                Sun, 25 Jun 2023   Prob (F-statistic):              0.546\n",
      "Time:                        14:28:23   Log-Likelihood:                -334.48\n",
      "No. Observations:                 100   AIC:                             711.0\n",
      "Df Residuals:                      79   BIC:                             765.7\n",
      "Df Model:                          20                                         \n",
      "Covariance Type:            nonrobust                                         \n",
      "=========================================================================================================================================================\n",
      "                                                                                            coef    std err          t      P>|t|      [0.025      0.975]\n",
      "---------------------------------------------------------------------------------------------------------------------------------------------------------\n",
      "const                                                                                     2.0000      7.720      0.259      0.796     -13.366      17.366\n",
      "age_18-25                                                                                 0.6188      3.101      0.200      0.842      -5.555       6.792\n",
      "age_26-35                                                                                 1.5994      2.675      0.598      0.552      -3.724       6.923\n",
      "age_36-45                                                                                 1.6076      2.710      0.593      0.555      -3.786       7.001\n",
      "age_46-55                                                                                 1.8133      2.702      0.671      0.504      -3.566       7.192\n",
      "age_56-65                                                                                -2.0506      3.413     -0.601      0.550      -8.844       4.743\n",
      "age_66-75                                                                                 3.2589      6.193      0.526      0.600      -9.069      15.586\n",
      "education_Associate degree                                                               -0.5936      4.773     -0.124      0.901     -10.095       8.907\n",
      "education_Other:                                                                          2.8968      4.290      0.675      0.501      -5.642      11.436\n",
      "education_PhD or similar                                                                 -1.1393      5.422     -0.210      0.834     -11.932       9.653\n",
      "education_Secondary school diploma                                                        2.8722      2.961      0.970      0.335      -3.021       8.765\n",
      "education_University degree (Bachelor/Master)                                             2.8112      2.692      1.044      0.300      -2.548       8.170\n",
      "IT background_No, other education or occupation                                           2.6642      3.139      0.849      0.399      -3.584       8.912\n",
      "IT background_Yes, IT specialist, IT security specialist or similar                      -5.0130      5.609     -0.894      0.374     -16.177       6.151\n",
      "IT background_Yes, other IT security related education or occupation:                     2.6123      4.017      0.650      0.517      -5.384      10.608\n",
      "IT background_Yes, studies in Computer Science, IT Security, Cybersecurity or similar     6.5840      3.832      1.718      0.090      -1.044      14.212\n",
      "occupation_Civil Service                                                                  7.2501      3.876      1.870      0.065      -0.465      14.965\n",
      "occupation_Employee                                                                       1.5617      2.138      0.731      0.467      -2.693       5.817\n",
      "occupation_Other:                                                                         0.3112      4.599      0.068      0.946      -8.844       9.466\n",
      "occupation_Retired                                                                        3.9930      4.838      0.825      0.412      -5.636      13.622\n",
      "occupation_Self-employed                                                                  2.5821      2.776      0.930      0.355      -2.943       8.108\n",
      "occupation_Training/ Apprenticeship                                                      -3.0916      5.469     -0.565      0.573     -13.978       7.795\n",
      "occupation_Unemployed                                                                    -7.9888      4.835     -1.652      0.102     -17.613       1.635\n",
      "occupation_University Student                                                             2.2298      3.270      0.682      0.497      -4.279       8.739\n",
      "==============================================================================\n",
      "Omnibus:                       26.800   Durbin-Watson:                   2.265\n",
      "Prob(Omnibus):                  0.000   Jarque-Bera (JB):               63.457\n",
      "Skew:                           0.961   Prob(JB):                     1.66e-14\n",
      "Kurtosis:                       6.397   Cond. No.                     2.22e+16\n",
      "==============================================================================\n",
      "\n",
      "Notes:\n",
      "[1] Standard Errors assume that the covariance matrix of the errors is correctly specified.\n",
      "[2] The smallest eigenvalue is 5.76e-31. This might indicate that there are\n",
      "strong multicollinearity problems or that the design matrix is singular.\n"
     ]
    }
   ],
   "source": [
    "ols_regression(df)"
   ]
  },
  {
   "cell_type": "code",
   "execution_count": 543,
   "id": "1a0ef096",
   "metadata": {},
   "outputs": [
    {
     "name": "stdout",
     "output_type": "stream",
     "text": [
      "                            OLS Regression Results                            \n",
      "==============================================================================\n",
      "Dep. Variable:       total score diff   R-squared:                       1.000\n",
      "Model:                            OLS   Adj. R-squared:                  0.998\n",
      "Method:                 Least Squares   F-statistic:                     748.3\n",
      "Date:                Sun, 25 Jun 2023   Prob (F-statistic):             0.0281\n",
      "Time:                        14:28:24   Log-Likelihood:                 2.2445\n",
      "No. Observations:                   9   AIC:                             11.51\n",
      "Df Residuals:                       1   BIC:                             13.09\n",
      "Df Model:                           7                                         \n",
      "Covariance Type:            nonrobust                                         \n",
      "=========================================================================================================================================================\n",
      "                                                                                            coef    std err          t      P>|t|      [0.025      0.975]\n",
      "---------------------------------------------------------------------------------------------------------------------------------------------------------\n",
      "const                                                                                     8.4220      0.145     58.177      0.011       6.583      10.261\n",
      "age_26-35                                                                                -3.6244      0.185    -19.563      0.033      -5.978      -1.270\n",
      "age_36-45                                                                                 1.0846      0.297      3.655      0.170      -2.686       4.855\n",
      "age_46-55                                                                                10.9619      0.314     34.895      0.018       6.970      14.953\n",
      "education_Associate degree                                                               -5.4699      0.350    -15.608      0.041      -9.923      -1.017\n",
      "education_Secondary school diploma                                                        5.6028      0.349     16.061      0.040       1.170      10.035\n",
      "education_University degree (Bachelor/Master)                                             8.2891      0.210     39.487      0.016       5.622      10.956\n",
      "IT background_No, other education or occupation                                           3.7271      0.340     10.965      0.058      -0.592       8.046\n",
      "IT background_Yes, IT specialist, IT security specialist or similar                     -13.7729      0.531    -25.959      0.025     -20.514      -7.031\n",
      "IT background_Yes, other IT security related education or occupation:                     6.5544      0.312     21.031      0.030       2.594      10.514\n",
      "IT background_Yes, studies in Computer Science, IT Security, Cybersecurity or similar    11.9135      0.185     64.234      0.010       9.557      14.270\n",
      "occupation_Civil Service                                                                 11.9135      0.185     64.234      0.010       9.557      14.270\n",
      "occupation_Employee                                                                      10.6362      0.548     19.395      0.033       3.668      17.604\n",
      "occupation_Retired                                                                      -11.8138      0.598    -19.765      0.032     -19.409      -4.219\n",
      "occupation_Self-employed                                                                 -2.3138      0.324     -7.148      0.088      -6.427       1.799\n",
      "==============================================================================\n",
      "Omnibus:                        4.703   Durbin-Watson:                   1.500\n",
      "Prob(Omnibus):                  0.095   Jarque-Bera (JB):                0.844\n",
      "Skew:                           0.000   Prob(JB):                        0.656\n",
      "Kurtosis:                       4.500   Cond. No.                     3.97e+16\n",
      "==============================================================================\n",
      "\n",
      "Notes:\n",
      "[1] Standard Errors assume that the covariance matrix of the errors is correctly specified.\n",
      "[2] The input rank is higher than the number of observations.\n",
      "[3] The smallest eigenvalue is 1.53e-32. This might indicate that there are\n",
      "strong multicollinearity problems or that the design matrix is singular.\n"
     ]
    }
   ],
   "source": [
    "ols_regression(df[df[\"category\"] == 0])"
   ]
  },
  {
   "cell_type": "code",
   "execution_count": 544,
   "id": "feb1e8c7",
   "metadata": {},
   "outputs": [
    {
     "name": "stdout",
     "output_type": "stream",
     "text": [
      "                            OLS Regression Results                            \n",
      "==============================================================================\n",
      "Dep. Variable:       total score diff   R-squared:                       0.402\n",
      "Model:                            OLS   Adj. R-squared:                  0.086\n",
      "Method:                 Least Squares   F-statistic:                     1.272\n",
      "Date:                Sun, 25 Jun 2023   Prob (F-statistic):              0.260\n",
      "Time:                        14:28:24   Log-Likelihood:                -161.64\n",
      "No. Observations:                  56   AIC:                             363.3\n",
      "Df Residuals:                      36   BIC:                             403.8\n",
      "Df Model:                          19                                         \n",
      "Covariance Type:            nonrobust                                         \n",
      "=========================================================================================================================================================\n",
      "                                                                                            coef    std err          t      P>|t|      [0.025      0.975]\n",
      "---------------------------------------------------------------------------------------------------------------------------------------------------------\n",
      "const                                                                                     2.0000      5.411      0.370      0.714      -8.974      12.974\n",
      "age_18-25                                                                                 3.0142      3.115      0.968      0.340      -3.304       9.332\n",
      "age_26-35                                                                                 2.8483      2.576      1.106      0.276      -2.375       8.072\n",
      "age_36-45                                                                                 2.8763      2.449      1.175      0.248      -2.090       7.842\n",
      "age_46-55                                                                                -1.4378      2.431     -0.592      0.558      -6.367       3.491\n",
      "age_56-65                                                                                -3.8164      4.030     -0.947      0.350     -11.989       4.356\n",
      "age_66-75                                                                                 3.5404      5.642      0.627      0.534      -7.903      14.984\n",
      "education_Associate degree                                                               -2.7690      7.099     -0.390      0.699     -17.166      11.628\n",
      "education_Other:                                                                          2.2642      3.305      0.685      0.498      -4.438       8.966\n",
      "education_PhD or similar                                                                 -0.6967      4.325     -0.161      0.873      -9.469       8.076\n",
      "education_Secondary school diploma                                                        3.7334      2.652      1.408      0.168      -1.645       9.112\n",
      "education_University degree (Bachelor/Master)                                             4.4931      2.316      1.940      0.060      -0.203       9.190\n",
      "IT background_No, other education or occupation                                           2.1604      3.103      0.696      0.491      -4.132       8.453\n",
      "IT background_Yes, other IT security related education or occupation:                     1.2954      5.024      0.258      0.798      -8.894      11.485\n",
      "IT background_Yes, studies in Computer Science, IT Security, Cybersecurity or similar     3.5691      4.520      0.790      0.435      -5.598      12.737\n",
      "occupation_Civil Service                                                                  0.3841      4.459      0.086      0.932      -8.659       9.427\n",
      "occupation_Employee                                                                       1.6196      2.482      0.653      0.518      -3.414       6.653\n",
      "occupation_Other:                                                                         4.4658      5.261      0.849      0.402      -6.204      15.136\n",
      "occupation_Retired                                                                        3.6226      5.533      0.655      0.517      -7.598      14.843\n",
      "occupation_Self-employed                                                                  2.2491      2.874      0.782      0.439      -3.580       8.079\n",
      "occupation_Training/ Apprenticeship                                                       3.5756      7.078      0.505      0.617     -10.779      17.931\n",
      "occupation_Unemployed                                                                    -9.8677      5.549     -1.778      0.084     -21.121       1.386\n",
      "occupation_University Student                                                             0.9759      3.215      0.304      0.763      -5.544       7.495\n",
      "==============================================================================\n",
      "Omnibus:                        1.366   Durbin-Watson:                   1.572\n",
      "Prob(Omnibus):                  0.505   Jarque-Bera (JB):                0.657\n",
      "Skew:                          -0.157   Prob(JB):                        0.720\n",
      "Kurtosis:                       3.427   Cond. No.                     2.45e+16\n",
      "==============================================================================\n",
      "\n",
      "Notes:\n",
      "[1] Standard Errors assume that the covariance matrix of the errors is correctly specified.\n",
      "[2] The smallest eigenvalue is 2.59e-31. This might indicate that there are\n",
      "strong multicollinearity problems or that the design matrix is singular.\n"
     ]
    }
   ],
   "source": [
    "ols_regression(df[df[\"category\"]==1])"
   ]
  },
  {
   "cell_type": "code",
   "execution_count": 545,
   "id": "3818cb6c",
   "metadata": {
    "scrolled": true
   },
   "outputs": [
    {
     "name": "stdout",
     "output_type": "stream",
     "text": [
      "                            OLS Regression Results                            \n",
      "==============================================================================\n",
      "Dep. Variable:       total score diff   R-squared:                       0.566\n",
      "Model:                            OLS   Adj. R-squared:                  0.223\n",
      "Method:                 Least Squares   F-statistic:                     1.651\n",
      "Date:                Sun, 25 Jun 2023   Prob (F-statistic):              0.150\n",
      "Time:                        14:28:24   Log-Likelihood:                -86.430\n",
      "No. Observations:                  35   AIC:                             204.9\n",
      "Df Residuals:                      19   BIC:                             229.7\n",
      "Df Model:                          15                                         \n",
      "Covariance Type:            nonrobust                                         \n",
      "=========================================================================================================================================================\n",
      "                                                                                            coef    std err          t      P>|t|      [0.025      0.975]\n",
      "---------------------------------------------------------------------------------------------------------------------------------------------------------\n",
      "const                                                                                     2.2563      1.220      1.849      0.080      -0.298       4.810\n",
      "age_18-25                                                                                -0.2619      1.658     -0.158      0.876      -3.731       3.207\n",
      "age_26-35                                                                                -1.1434      1.427     -0.801      0.433      -4.131       1.844\n",
      "age_36-45                                                                                 2.7904      1.508      1.851      0.080      -0.365       5.946\n",
      "age_46-55                                                                                 0.2719      1.711      0.159      0.875      -3.310       3.854\n",
      "age_56-65                                                                                 0.5993      2.079      0.288      0.776      -3.752       4.950\n",
      "education_Associate degree                                                               -1.5353      3.737     -0.411      0.686      -9.356       6.286\n",
      "education_Secondary school diploma                                                       -1.5897      2.222     -0.715      0.483      -6.240       3.061\n",
      "education_University degree (Bachelor/Master)                                             5.3813      1.734      3.103      0.006       1.751       9.011\n",
      "IT background_No, other education or occupation                                          -2.9189      1.527     -1.912      0.071      -6.114       0.276\n",
      "IT background_Yes, IT specialist, IT security specialist or similar                       8.3615      3.819      2.190      0.041       0.368      16.355\n",
      "IT background_Yes, other IT security related education or occupation:                    -2.9119      2.350     -1.239      0.230      -7.830       2.006\n",
      "IT background_Yes, studies in Computer Science, IT Security, Cybersecurity or similar    -0.2744      2.179     -0.126      0.901      -4.835       4.286\n",
      "occupation_Civil Service                                                                  1.6948      2.983      0.568      0.577      -4.549       7.938\n",
      "occupation_Employee                                                                       2.1153      1.364      1.551      0.137      -0.739       4.970\n",
      "occupation_Other:                                                                        -1.3091      3.763     -0.348      0.732      -9.185       6.566\n",
      "occupation_Self-employed                                                                 -4.3382      4.214     -1.030      0.316     -13.157       4.481\n",
      "occupation_Training/ Apprenticeship                                                       0.3247      3.824      0.085      0.933      -7.679       8.328\n",
      "occupation_Unemployed                                                                    -2.7568      3.918     -0.704      0.490     -10.958       5.444\n",
      "occupation_University Student                                                             6.5257      2.398      2.721      0.014       1.507      11.545\n",
      "==============================================================================\n",
      "Omnibus:                        1.651   Durbin-Watson:                   1.833\n",
      "Prob(Omnibus):                  0.438   Jarque-Bera (JB):                1.117\n",
      "Skew:                          -0.438   Prob(JB):                        0.572\n",
      "Kurtosis:                       3.007   Cond. No.                     4.22e+16\n",
      "==============================================================================\n",
      "\n",
      "Notes:\n",
      "[1] Standard Errors assume that the covariance matrix of the errors is correctly specified.\n",
      "[2] The smallest eigenvalue is 6.23e-32. This might indicate that there are\n",
      "strong multicollinearity problems or that the design matrix is singular.\n"
     ]
    }
   ],
   "source": [
    "ols_regression(df[df[\"category\"]==2])"
   ]
  },
  {
   "cell_type": "code",
   "execution_count": 546,
   "id": "85d928fa",
   "metadata": {},
   "outputs": [
    {
     "name": "stdout",
     "output_type": "stream",
     "text": [
      "                            OLS Regression Results                            \n",
      "==============================================================================\n",
      "Dep. Variable:       total score diff   R-squared:                       0.300\n",
      "Model:                            OLS   Adj. R-squared:                 -0.175\n",
      "Method:                 Least Squares   F-statistic:                    0.6318\n",
      "Date:                Sun, 25 Jun 2023   Prob (F-statistic):              0.937\n",
      "Time:                        14:28:25   Log-Likelihood:                -327.29\n",
      "No. Observations:                 100   AIC:                             736.6\n",
      "Df Residuals:                      59   BIC:                             843.4\n",
      "Df Model:                          40                                         \n",
      "Covariance Type:            nonrobust                                         \n",
      "============================================================================================================\n",
      "                                               coef    std err          t      P>|t|      [0.025      0.975]\n",
      "------------------------------------------------------------------------------------------------------------\n",
      "const                                        2.0000      8.312      0.241      0.811     -14.633      18.633\n",
      "personality1_Agree a little                 -0.0865      2.440     -0.035      0.972      -4.969       4.796\n",
      "personality1_Agree strongly                  3.0804      2.596      1.187      0.240      -2.115       8.275\n",
      "personality1_Disagree a little               1.1905      2.702      0.441      0.661      -4.217       6.598\n",
      "personality1_Disagree strongly              -3.4888      5.801     -0.601      0.550     -15.096       8.118\n",
      "personality1_Neither agree nor disagree      1.4548      2.980      0.488      0.627      -4.508       7.417\n",
      "personality2_Agree a little                  1.3951      2.593      0.538      0.593      -3.793       6.583\n",
      "personality2_Agree strongly                  8.1333      2.752      2.955      0.004       2.626      13.640\n",
      "personality2_Disagree a little               4.5458      3.100      1.466      0.148      -1.658      10.750\n",
      "personality2_Disagree strongly             -13.2580      8.586     -1.544      0.128     -30.438       3.922\n",
      "personality2_Neither agree nor disagree      1.3341      2.931      0.455      0.651      -4.531       7.199\n",
      "personality3_Agree a little                 -0.3768      2.276     -0.166      0.869      -4.931       4.178\n",
      "personality3_Agree strongly                  0.3580      4.174      0.086      0.932      -7.994       8.710\n",
      "personality3_Disagree a little               2.0543      2.255      0.911      0.366      -2.458       6.566\n",
      "personality3_Disagree strongly               0.2201      2.492      0.088      0.930      -4.766       5.207\n",
      "personality3_Neither agree nor disagree     -0.1053      2.494     -0.042      0.966      -5.096       4.886\n",
      "personality4_Agree a little                  0.0560      2.426      0.023      0.982      -4.799       4.911\n",
      "personality4_Agree strongly                  2.0858      3.058      0.682      0.498      -4.033       8.205\n",
      "personality4_Disagree a little               1.6914      2.359      0.717      0.476      -3.028       6.411\n",
      "personality4_Disagree strongly              -1.5074      4.221     -0.357      0.722      -9.954       6.939\n",
      "personality4_Neither agree nor disagree     -0.1754      2.431     -0.072      0.943      -5.041       4.690\n",
      "personality5_Agree a little                 -0.7154      2.375     -0.301      0.764      -5.468       4.037\n",
      "personality5_Agree strongly                  0.4902      5.923      0.083      0.934     -11.362      12.342\n",
      "personality5_Disagree a little              -0.7876      2.404     -0.328      0.744      -5.597       4.022\n",
      "personality5_Disagree strongly               2.1899      2.713      0.807      0.423      -3.239       7.619\n",
      "personality5_Neither agree nor disagree      0.9733      3.066      0.317      0.752      -5.162       7.108\n",
      "personality6_Agree a little                  2.6871      2.182      1.231      0.223      -1.680       7.054\n",
      "personality6_Agree strongly                  3.6897      4.521      0.816      0.418      -5.356      12.736\n",
      "personality6_Disagree a little               0.1251      2.309      0.054      0.957      -4.494       4.745\n",
      "personality6_Disagree strongly              -4.3591      3.898     -1.118      0.268     -12.160       3.441\n",
      "personality6_Neither agree nor disagree      0.0076      2.601      0.003      0.998      -5.197       5.212\n",
      "personality7_Agree a little                  1.0840      2.280      0.475      0.636      -3.478       5.646\n",
      "personality7_Agree strongly                 -5.1756      5.284     -0.979      0.331     -15.749       5.398\n",
      "personality7_Disagree a little               3.1011      2.561      1.211      0.231      -2.023       8.226\n",
      "personality7_Disagree strongly               0.7361      3.087      0.238      0.812      -5.440       6.912\n",
      "personality7_Neither agree nor disagree      2.4047      2.477      0.971      0.336      -2.553       7.362\n",
      "personality8_Agree a little                  0.5464      2.132      0.256      0.799      -3.719       4.812\n",
      "personality8_Agree strongly                  1.6086      2.468      0.652      0.517      -3.329       6.547\n",
      "personality8_Disagree a little              -0.1379      3.943     -0.035      0.972      -8.027       7.751\n",
      "personality8_Neither agree nor disagree      0.1333      2.744      0.049      0.961      -5.358       5.624\n",
      "personality9_Agree a little                  0.5274      2.229      0.237      0.814      -3.933       4.988\n",
      "personality9_Agree strongly                  3.6800      3.231      1.139      0.259      -2.785      10.145\n",
      "personality9_Disagree a little              -0.9055      2.413     -0.375      0.709      -5.734       3.923\n",
      "personality9_Disagree strongly              -1.4490      3.139     -0.462      0.646      -7.730       4.832\n",
      "personality9_Neither agree nor disagree      0.2975      2.525      0.118      0.907      -4.754       5.349\n",
      "personality10_Agree a little                -2.1605      2.645     -0.817      0.417      -7.453       3.133\n",
      "personality10_Agree strongly                -2.0124      2.758     -0.730      0.468      -7.530       3.506\n",
      "personality10_Disagree a little              1.8465      3.097      0.596      0.553      -4.351       8.044\n",
      "personality10_Disagree strongly              3.9527      7.465      0.530      0.598     -10.984      18.889\n",
      "personality10_Neither agree nor disagree     0.5240      2.764      0.190      0.850      -5.006       6.054\n",
      "==============================================================================\n",
      "Omnibus:                       31.395   Durbin-Watson:                   2.335\n",
      "Prob(Omnibus):                  0.000   Jarque-Bera (JB):              106.064\n",
      "Skew:                           0.981   Prob(JB):                     9.30e-24\n",
      "Kurtosis:                       7.648   Cond. No.                     1.18e+16\n",
      "==============================================================================\n",
      "\n",
      "Notes:\n",
      "[1] Standard Errors assume that the covariance matrix of the errors is correctly specified.\n",
      "[2] The smallest eigenvalue is 2.6e-30. This might indicate that there are\n",
      "strong multicollinearity problems or that the design matrix is singular.\n"
     ]
    }
   ],
   "source": [
    "ols_regression_personality(df,'total score diff')"
   ]
  },
  {
   "cell_type": "code",
   "execution_count": 547,
   "id": "73d8b814",
   "metadata": {},
   "outputs": [],
   "source": [
    "df[\"category\"] = df['category'].astype(float)\n",
    "df[\"category diff\"] = df[\"category diff\"].astype(float)"
   ]
  },
  {
   "cell_type": "code",
   "execution_count": 548,
   "id": "679dd26d",
   "metadata": {},
   "outputs": [
    {
     "name": "stdout",
     "output_type": "stream",
     "text": [
      "                            OLS Regression Results                            \n",
      "==============================================================================\n",
      "Dep. Variable:            total score   R-squared:                       0.363\n",
      "Model:                            OLS   Adj. R-squared:                 -0.069\n",
      "Method:                 Least Squares   F-statistic:                    0.8396\n",
      "Date:                Sun, 25 Jun 2023   Prob (F-statistic):              0.718\n",
      "Time:                        14:28:29   Log-Likelihood:                -329.80\n",
      "No. Observations:                 100   AIC:                             741.6\n",
      "Df Residuals:                      59   BIC:                             848.4\n",
      "Df Model:                          40                                         \n",
      "Covariance Type:            nonrobust                                         \n",
      "============================================================================================================\n",
      "                                               coef    std err          t      P>|t|      [0.025      0.975]\n",
      "------------------------------------------------------------------------------------------------------------\n",
      "const                                       38.5000      8.524      4.517      0.000      21.444      55.556\n",
      "personality1_Agree a little                 -1.6009      2.502     -0.640      0.525      -6.608       3.406\n",
      "personality1_Agree strongly                 -0.4044      2.662     -0.152      0.880      -5.731       4.923\n",
      "personality1_Disagree a little               0.7272      2.771      0.262      0.794      -4.818       6.272\n",
      "personality1_Disagree strongly               0.3891      5.948      0.065      0.948     -11.513      12.292\n",
      "personality1_Neither agree nor disagree      1.7747      3.056      0.581      0.564      -4.340       7.889\n",
      "personality2_Agree a little                 -1.9401      2.659     -0.730      0.468      -7.260       3.380\n",
      "personality2_Agree strongly                 -5.1082      2.822     -1.810      0.075     -10.755       0.539\n",
      "personality2_Disagree a little              -3.2645      3.179     -1.027      0.309      -9.627       3.097\n",
      "personality2_Disagree strongly              11.4842      8.804      1.304      0.197      -6.133      29.101\n",
      "personality2_Neither agree nor disagree     -0.2856      3.006     -0.095      0.925      -6.300       5.729\n",
      "personality3_Agree a little                  1.3476      2.334      0.577      0.566      -3.323       6.018\n",
      "personality3_Agree strongly                  6.2949      4.280      1.471      0.147      -2.270      14.860\n",
      "personality3_Disagree a little              -2.7009      2.312     -1.168      0.247      -7.328       1.926\n",
      "personality3_Disagree strongly              -1.7083      2.555     -0.668      0.506      -6.822       3.405\n",
      "personality3_Neither agree nor disagree     -2.3477      2.558     -0.918      0.362      -7.466       2.770\n",
      "personality4_Agree a little                  3.3631      2.488      1.352      0.182      -1.616       8.342\n",
      "personality4_Agree strongly                 -3.2640      3.136     -1.041      0.302      -9.539       3.011\n",
      "personality4_Disagree a little               0.6357      2.419      0.263      0.794      -4.204       5.476\n",
      "personality4_Disagree strongly              -1.3552      4.329     -0.313      0.755     -10.017       7.307\n",
      "personality4_Neither agree nor disagree      1.5061      2.493      0.604      0.548      -3.483       6.495\n",
      "personality5_Agree a little                 -2.1366      2.435     -0.877      0.384      -7.010       2.737\n",
      "personality5_Agree strongly                  1.1174      6.074      0.184      0.855     -11.036      13.271\n",
      "personality5_Disagree a little               2.8488      2.465      1.156      0.252      -2.083       7.781\n",
      "personality5_Disagree strongly              -1.3659      2.782     -0.491      0.625      -6.933       4.201\n",
      "personality5_Neither agree nor disagree      0.4221      3.144      0.134      0.894      -5.869       6.713\n",
      "personality6_Agree a little                 -1.3997      2.238     -0.625      0.534      -5.878       3.079\n",
      "personality6_Agree strongly                -11.0730      4.636     -2.389      0.020     -20.349      -1.797\n",
      "personality6_Disagree a little               4.2804      2.367      1.808      0.076      -0.457       9.018\n",
      "personality6_Disagree strongly               6.6995      3.998      1.676      0.099      -1.300      14.698\n",
      "personality6_Neither agree nor disagree      2.3786      2.667      0.892      0.376      -2.959       7.716\n",
      "personality7_Agree a little                  0.3120      2.338      0.133      0.894      -4.367       4.991\n",
      "personality7_Agree strongly                  1.8753      5.418      0.346      0.730      -8.967      12.718\n",
      "personality7_Disagree a little              -2.6707      2.626     -1.017      0.313      -7.926       2.584\n",
      "personality7_Disagree strongly               2.2480      3.165      0.710      0.480      -4.086       8.582\n",
      "personality7_Neither agree nor disagree     -0.8789      2.540     -0.346      0.731      -5.962       4.205\n",
      "personality8_Agree a little                 -0.5331      2.186     -0.244      0.808      -4.907       3.841\n",
      "personality8_Agree strongly                  1.1239      2.531      0.444      0.659      -3.940       6.188\n",
      "personality8_Disagree a little               5.0132      4.043      1.240      0.220      -3.077      13.103\n",
      "personality8_Neither agree nor disagree     -4.7182      2.814     -1.677      0.099     -10.349       0.913\n",
      "personality9_Agree a little                 -0.8367      2.286     -0.366      0.716      -5.411       3.738\n",
      "personality9_Agree strongly                 -2.2038      3.313     -0.665      0.509      -8.833       4.425\n",
      "personality9_Disagree a little               2.1919      2.474      0.886      0.379      -2.759       7.143\n",
      "personality9_Disagree strongly               2.3145      3.219      0.719      0.475      -4.126       8.755\n",
      "personality9_Neither agree nor disagree     -0.5800      2.589     -0.224      0.823      -5.760       4.600\n",
      "personality10_Agree a little                 0.4458      2.713      0.164      0.870      -4.982       5.874\n",
      "personality10_Agree strongly                 1.9651      2.828      0.695      0.490      -3.693       7.624\n",
      "personality10_Disagree a little             -1.8375      3.176     -0.579      0.565      -8.193       4.518\n",
      "personality10_Disagree strongly              5.3813      7.655      0.703      0.485      -9.935      20.698\n",
      "personality10_Neither agree nor disagree    -5.0690      2.834     -1.789      0.079     -10.740       0.602\n",
      "==============================================================================\n",
      "Omnibus:                       33.195   Durbin-Watson:                   2.505\n",
      "Prob(Omnibus):                  0.000   Jarque-Bera (JB):               84.174\n",
      "Skew:                          -1.182   Prob(JB):                     5.27e-19\n",
      "Kurtosis:                       6.823   Cond. No.                     1.18e+16\n",
      "==============================================================================\n",
      "\n",
      "Notes:\n",
      "[1] Standard Errors assume that the covariance matrix of the errors is correctly specified.\n",
      "[2] The smallest eigenvalue is 2.6e-30. This might indicate that there are\n",
      "strong multicollinearity problems or that the design matrix is singular.\n"
     ]
    }
   ],
   "source": [
    "ols_regression_personality(df,'total score')"
   ]
  },
  {
   "cell_type": "code",
   "execution_count": 549,
   "id": "d39a1adf",
   "metadata": {},
   "outputs": [
    {
     "name": "stdout",
     "output_type": "stream",
     "text": [
      "                            OLS Regression Results                            \n",
      "==============================================================================\n",
      "Dep. Variable:        new total score   R-squared:                       0.462\n",
      "Model:                            OLS   Adj. R-squared:                  0.098\n",
      "Method:                 Least Squares   F-statistic:                     1.269\n",
      "Date:                Sun, 25 Jun 2023   Prob (F-statistic):              0.200\n",
      "Time:                        14:28:29   Log-Likelihood:                -310.12\n",
      "No. Observations:                 100   AIC:                             702.2\n",
      "Df Residuals:                      59   BIC:                             809.1\n",
      "Df Model:                          40                                         \n",
      "Covariance Type:            nonrobust                                         \n",
      "============================================================================================================\n",
      "                                               coef    std err          t      P>|t|      [0.025      0.975]\n",
      "------------------------------------------------------------------------------------------------------------\n",
      "const                                       40.5000      7.002      5.784      0.000      26.490      54.510\n",
      "personality1_Agree a little                 -1.6874      2.055     -0.821      0.415      -5.800       2.425\n",
      "personality1_Agree strongly                  2.6760      2.187      1.224      0.226      -1.700       7.052\n",
      "personality1_Disagree a little               1.9176      2.276      0.843      0.403      -2.637       6.472\n",
      "personality1_Disagree strongly              -3.0997      4.886     -0.634      0.528     -12.876       6.677\n",
      "personality1_Neither agree nor disagree      3.2296      2.510      1.287      0.203      -1.793       8.252\n",
      "personality2_Agree a little                 -0.5450      2.184     -0.250      0.804      -4.915       3.825\n",
      "personality2_Agree strongly                  3.0251      2.318      1.305      0.197      -1.614       7.664\n",
      "personality2_Disagree a little               1.2813      2.612      0.491      0.626      -3.944       6.507\n",
      "personality2_Disagree strongly              -1.7738      7.232     -0.245      0.807     -16.244      12.697\n",
      "personality2_Neither agree nor disagree      1.0485      2.469      0.425      0.673      -3.891       5.988\n",
      "personality3_Agree a little                  0.9708      1.917      0.506      0.614      -2.866       4.807\n",
      "personality3_Agree strongly                  6.6530      3.516      1.892      0.063      -0.382      13.688\n",
      "personality3_Disagree a little              -0.6466      1.899     -0.340      0.735      -4.447       3.154\n",
      "personality3_Disagree strongly              -1.4882      2.099     -0.709      0.481      -5.688       2.712\n",
      "personality3_Neither agree nor disagree     -2.4530      2.101     -1.168      0.248      -6.657       1.751\n",
      "personality4_Agree a little                  3.4191      2.044      1.673      0.100      -0.670       7.509\n",
      "personality4_Agree strongly                 -1.1783      2.576     -0.457      0.649      -6.332       3.976\n",
      "personality4_Disagree a little               2.3272      1.987      1.171      0.246      -1.648       6.303\n",
      "personality4_Disagree strongly              -2.8626      3.556     -0.805      0.424      -9.977       4.252\n",
      "personality4_Neither agree nor disagree      1.3307      2.048      0.650      0.518      -2.767       5.429\n",
      "personality5_Agree a little                 -2.8520      2.000     -1.426      0.159      -6.855       1.151\n",
      "personality5_Agree strongly                  1.6076      4.989      0.322      0.748      -8.375      11.590\n",
      "personality5_Disagree a little               2.0612      2.025      1.018      0.313      -1.990       6.112\n",
      "personality5_Disagree strongly               0.8239      2.285      0.361      0.720      -3.749       5.397\n",
      "personality5_Neither agree nor disagree      1.3954      2.582      0.540      0.591      -3.772       6.563\n",
      "personality6_Agree a little                  1.2874      1.838      0.700      0.486      -2.391       4.966\n",
      "personality6_Agree strongly                 -7.3834      3.808     -1.939      0.057     -15.003       0.236\n",
      "personality6_Disagree a little               4.4055      1.945      2.266      0.027       0.514       8.297\n",
      "personality6_Disagree strongly               2.3404      3.284      0.713      0.479      -4.230       8.911\n",
      "personality6_Neither agree nor disagree      2.3861      2.191      1.089      0.281      -1.998       6.770\n",
      "personality7_Agree a little                  1.3960      1.921      0.727      0.470      -2.447       5.239\n",
      "personality7_Agree strongly                 -3.3002      4.451     -0.742      0.461     -12.206       5.606\n",
      "personality7_Disagree a little               0.4304      2.157      0.200      0.843      -3.886       4.747\n",
      "personality7_Disagree strongly               2.9841      2.600      1.148      0.256      -2.218       8.186\n",
      "personality7_Neither agree nor disagree      1.5259      2.087      0.731      0.468      -2.650       5.701\n",
      "personality8_Agree a little                  0.0133      1.795      0.007      0.994      -3.579       3.606\n",
      "personality8_Agree strongly                  2.7325      2.079      1.315      0.194      -1.427       6.892\n",
      "personality8_Disagree a little               4.8753      3.321      1.468      0.147      -1.770      11.520\n",
      "personality8_Neither agree nor disagree     -4.5849      2.311     -1.984      0.052      -9.210       0.040\n",
      "personality9_Agree a little                 -0.3093      1.878     -0.165      0.870      -4.067       3.448\n",
      "personality9_Agree strongly                  1.4761      2.721      0.542      0.590      -3.969       6.921\n",
      "personality9_Disagree a little               1.2863      2.032      0.633      0.529      -2.780       5.353\n",
      "personality9_Disagree strongly               0.8655      2.644      0.327      0.745      -4.425       6.156\n",
      "personality9_Neither agree nor disagree     -0.2826      2.126     -0.133      0.895      -4.538       3.973\n",
      "personality10_Agree a little                -1.7147      2.228     -0.770      0.445      -6.173       2.744\n",
      "personality10_Agree strongly                -0.0473      2.323     -0.020      0.984      -4.695       4.600\n",
      "personality10_Disagree a little              0.0090      2.609      0.003      0.997      -5.211       5.229\n",
      "personality10_Disagree strongly              9.3341      6.287      1.485      0.143      -3.247      21.915\n",
      "personality10_Neither agree nor disagree    -4.5450      2.328     -1.952      0.056      -9.203       0.113\n",
      "==============================================================================\n",
      "Omnibus:                       10.150   Durbin-Watson:                   2.451\n",
      "Prob(Omnibus):                  0.006   Jarque-Bera (JB):               10.467\n",
      "Skew:                          -0.654   Prob(JB):                      0.00534\n",
      "Kurtosis:                       3.894   Cond. No.                     1.18e+16\n",
      "==============================================================================\n",
      "\n",
      "Notes:\n",
      "[1] Standard Errors assume that the covariance matrix of the errors is correctly specified.\n",
      "[2] The smallest eigenvalue is 2.6e-30. This might indicate that there are\n",
      "strong multicollinearity problems or that the design matrix is singular.\n"
     ]
    }
   ],
   "source": [
    "ols_regression_personality(df,'new total score')"
   ]
  },
  {
   "cell_type": "code",
   "execution_count": 550,
   "id": "0c7774a6",
   "metadata": {},
   "outputs": [
    {
     "name": "stdout",
     "output_type": "stream",
     "text": [
      "                            OLS Regression Results                            \n",
      "==============================================================================\n",
      "Dep. Variable:       total score diff   R-squared:                       1.000\n",
      "Model:                            OLS   Adj. R-squared:                  1.000\n",
      "Method:                 Least Squares   F-statistic:                 1.536e+27\n",
      "Date:                Sun, 25 Jun 2023   Prob (F-statistic):           2.02e-14\n",
      "Time:                        14:28:29   Log-Likelihood:                 1055.6\n",
      "No. Observations:                  35   AIC:                            -2043.\n",
      "Df Residuals:                       1   BIC:                            -1990.\n",
      "Df Model:                          33                                         \n",
      "Covariance Type:            nonrobust                                         \n",
      "============================================================================================================\n",
      "                                               coef    std err          t      P>|t|      [0.025      0.975]\n",
      "------------------------------------------------------------------------------------------------------------\n",
      "const                                        1.3895   2.06e-14   6.74e+13      0.000       1.389       1.389\n",
      "personality1_Agree a little                 -3.9264   6.86e-14  -5.72e+13      0.000      -3.926      -3.926\n",
      "personality1_Agree strongly                  2.9408   8.65e-14    3.4e+13      0.000       2.941       2.941\n",
      "personality1_Disagree a little               0.7628   1.94e-13   3.93e+12      0.000       0.763       0.763\n",
      "personality1_Neither agree nor disagree      1.6123    1.1e-13   1.46e+13      0.000       1.612       1.612\n",
      "personality2_Agree a little                  0.8062   5.97e-14   1.35e+13      0.000       0.806       0.806\n",
      "personality2_Agree strongly                  4.6567    1.1e-13   4.25e+13      0.000       4.657       4.657\n",
      "personality2_Disagree a little               0.2722   7.01e-14   3.88e+12      0.000       0.272       0.272\n",
      "personality2_Disagree strongly              -1.5028    1.6e-13  -9.39e+12      0.000      -1.503      -1.503\n",
      "personality2_Neither agree nor disagree     -2.8428   1.45e-13  -1.96e+13      0.000      -2.843      -2.843\n",
      "personality3_Agree a little                 -1.8265   6.16e-14  -2.96e+13      0.000      -1.827      -1.827\n",
      "personality3_Agree strongly                 -5.9965   1.58e-13   -3.8e+13      0.000      -5.997      -5.997\n",
      "personality3_Disagree a little               5.6683   1.18e-13   4.79e+13      0.000       5.668       5.668\n",
      "personality3_Disagree strongly              -0.8992    9.9e-14  -9.08e+12      0.000      -0.899      -0.899\n",
      "personality3_Neither agree nor disagree      4.4434   1.13e-13   3.93e+13      0.000       4.443       4.443\n",
      "personality4_Agree a little                 -1.7903   1.12e-13   -1.6e+13      0.000      -1.790      -1.790\n",
      "personality4_Agree strongly                  3.0451   1.62e-13   1.87e+13      0.000       3.045       3.045\n",
      "personality4_Disagree a little              -5.1019   1.73e-13  -2.96e+13      0.000      -5.102      -5.102\n",
      "personality4_Disagree strongly               6.5188   1.09e-13   5.97e+13      0.000       6.519       6.519\n",
      "personality4_Neither agree nor disagree     -1.2823   7.26e-14  -1.77e+13      0.000      -1.282      -1.282\n",
      "personality5_Agree a little                 -6.3355   1.11e-13   -5.7e+13      0.000      -6.336      -6.336\n",
      "personality5_Disagree a little              -3.2081   8.63e-14  -3.72e+13      0.000      -3.208      -3.208\n",
      "personality5_Disagree strongly               4.9242   9.59e-14   5.14e+13      0.000       4.924       4.924\n",
      "personality5_Neither agree nor disagree      6.0089   7.19e-14   8.35e+13      0.000       6.009       6.009\n",
      "personality6_Agree a little                 -2.8146   9.75e-14  -2.89e+13      0.000      -2.815      -2.815\n",
      "personality6_Agree strongly                 -1.9194   1.86e-13  -1.03e+13      0.000      -1.919      -1.919\n",
      "personality6_Disagree a little               1.4546   9.24e-14   1.58e+13      0.000       1.455       1.455\n",
      "personality6_Disagree strongly               4.4317   1.34e-13   3.31e+13      0.000       4.432       4.432\n",
      "personality6_Neither agree nor disagree      0.2371    8.4e-14   2.82e+12      0.000       0.237       0.237\n",
      "personality7_Agree a little                  3.5155   6.96e-14   5.05e+13      0.000       3.515       3.515\n",
      "personality7_Agree strongly                  6.1505   2.24e-13   2.75e+13      0.000       6.150       6.150\n",
      "personality7_Disagree a little               0.2915   1.12e-13   2.61e+12      0.000       0.291       0.291\n",
      "personality7_Disagree strongly              -6.9440   1.63e-13  -4.25e+13      0.000      -6.944      -6.944\n",
      "personality7_Neither agree nor disagree     -1.6239   6.83e-14  -2.38e+13      0.000      -1.624      -1.624\n",
      "personality8_Agree a little                  5.0595   7.33e-14    6.9e+13      0.000       5.060       5.060\n",
      "personality8_Agree strongly                  3.5252   1.26e-13    2.8e+13      0.000       3.525       3.525\n",
      "personality8_Disagree a little               1.5137   1.56e-13    9.7e+12      0.000       1.514       1.514\n",
      "personality8_Neither agree nor disagree     -8.7089   1.01e-13  -8.63e+13      0.000      -8.709      -8.709\n",
      "personality9_Agree a little                 -2.3499   6.01e-14  -3.91e+13      0.000      -2.350      -2.350\n",
      "personality9_Agree strongly                 -2.1389   2.09e-13  -1.02e+13      0.000      -2.139      -2.139\n",
      "personality9_Disagree a little              -0.7851   8.29e-14  -9.47e+12      0.000      -0.785      -0.785\n",
      "personality9_Disagree strongly               2.5002   1.12e-13   2.22e+13      0.000       2.500       2.500\n",
      "personality9_Neither agree nor disagree      4.1632   1.41e-13   2.96e+13      0.000       4.163       4.163\n",
      "personality10_Agree a little                 7.1095   1.25e-13   5.69e+13      0.000       7.110       7.110\n",
      "personality10_Agree strongly                 0.9892   1.24e-13   7.97e+12      0.000       0.989       0.989\n",
      "personality10_Disagree a little              4.3619   9.15e-14   4.77e+13      0.000       4.362       4.362\n",
      "personality10_Disagree strongly            -12.3945   3.76e-13   -3.3e+13      0.000     -12.394     -12.394\n",
      "personality10_Neither agree nor disagree     1.3233   1.65e-13   8.01e+12      0.000       1.323       1.323\n",
      "==============================================================================\n",
      "Omnibus:                        3.044   Durbin-Watson:                   0.692\n",
      "Prob(Omnibus):                  0.218   Jarque-Bera (JB):                1.467\n",
      "Skew:                           0.078   Prob(JB):                        0.480\n",
      "Kurtosis:                       2.009   Cond. No.                     1.51e+16\n",
      "==============================================================================\n",
      "\n",
      "Notes:\n",
      "[1] Standard Errors assume that the covariance matrix of the errors is correctly specified.\n",
      "[2] The input rank is higher than the number of observations.\n",
      "[3] The smallest eigenvalue is 5.77e-31. This might indicate that there are\n",
      "strong multicollinearity problems or that the design matrix is singular.\n"
     ]
    }
   ],
   "source": [
    "ols_regression_personality(df[df[\"category\"]==2.0],'total score diff')"
   ]
  },
  {
   "cell_type": "code",
   "execution_count": 551,
   "id": "28b4d160",
   "metadata": {},
   "outputs": [
    {
     "name": "stdout",
     "output_type": "stream",
     "text": [
      "                            OLS Regression Results                            \n",
      "==============================================================================\n",
      "Dep. Variable:       total score diff   R-squared:                       0.732\n",
      "Model:                            OLS   Adj. R-squared:                  0.132\n",
      "Method:                 Least Squares   F-statistic:                     1.219\n",
      "Date:                Sun, 25 Jun 2023   Prob (F-statistic):              0.338\n",
      "Time:                        14:28:30   Log-Likelihood:                -139.20\n",
      "No. Observations:                  56   AIC:                             356.4\n",
      "Df Residuals:                      17   BIC:                             435.4\n",
      "Df Model:                          38                                         \n",
      "Covariance Type:            nonrobust                                         \n",
      "============================================================================================================\n",
      "                                               coef    std err          t      P>|t|      [0.025      0.975]\n",
      "------------------------------------------------------------------------------------------------------------\n",
      "const                                        2.0000      5.274      0.379      0.709      -9.128      13.128\n",
      "personality1_Agree a little                  2.7588      2.474      1.115      0.280      -2.461       7.979\n",
      "personality1_Agree strongly                  7.0594      2.734      2.582      0.019       1.291      12.828\n",
      "personality1_Disagree a little              -3.6162      2.527     -1.431      0.170      -8.947       1.715\n",
      "personality1_Disagree strongly              -1.0404      5.547     -0.188      0.853     -12.743      10.662\n",
      "personality1_Neither agree nor disagree     -2.3478      2.980     -0.788      0.442      -8.636       3.940\n",
      "personality2_Agree a little                  1.3985      1.901      0.736      0.472      -2.612       5.409\n",
      "personality2_Agree strongly                  2.8206      2.634      1.071      0.299      -2.737       8.379\n",
      "personality2_Disagree a little               3.0533      2.641      1.156      0.264      -2.518       8.625\n",
      "personality2_Neither agree nor disagree     -4.4587      2.404     -1.855      0.081      -9.530       0.613\n",
      "personality3_Agree a little                  3.6173      2.870      1.261      0.224      -2.437       9.672\n",
      "personality3_Agree strongly                 14.8113      7.196      2.058      0.055      -0.371      29.994\n",
      "personality3_Disagree a little              -5.3235      2.990     -1.781      0.093     -11.631       0.984\n",
      "personality3_Disagree strongly              -3.4239      2.701     -1.268      0.222      -9.123       2.275\n",
      "personality3_Neither agree nor disagree     -6.8674      3.562     -1.928      0.071     -14.383       0.648\n",
      "personality4_Agree a little                 -0.8827      2.281     -0.387      0.704      -5.695       3.929\n",
      "personality4_Agree strongly                 -0.6337      2.776     -0.228      0.822      -6.491       5.223\n",
      "personality4_Disagree a little               3.6086      2.277      1.585      0.131      -1.195       8.412\n",
      "personality4_Disagree strongly              -3.2802      4.368     -0.751      0.463     -12.497       5.936\n",
      "personality4_Neither agree nor disagree      4.0018      2.763      1.448      0.166      -1.827       9.831\n",
      "personality5_Agree a little                 -2.6590      2.466     -1.078      0.296      -7.862       2.544\n",
      "personality5_Agree strongly                  4.6979      4.888      0.961      0.350      -5.616      15.011\n",
      "personality5_Disagree a little               1.0582      2.612      0.405      0.690      -4.453       6.570\n",
      "personality5_Disagree strongly               1.6054      2.462      0.652      0.523      -3.589       6.800\n",
      "personality5_Neither agree nor disagree     -1.8886      3.653     -0.517      0.612      -9.596       5.819\n",
      "personality6_Agree a little                  5.1814      2.534      2.044      0.057      -0.166      10.528\n",
      "personality6_Agree strongly                  2.5342      5.427      0.467      0.646      -8.915      13.983\n",
      "personality6_Disagree a little              -1.4436      2.410     -0.599      0.557      -6.529       3.642\n",
      "personality6_Disagree strongly              -0.0681      4.412     -0.015      0.988      -9.377       9.241\n",
      "personality6_Neither agree nor disagree     -3.3901      3.523     -0.962      0.349     -10.822       4.042\n",
      "personality7_Agree a little                  7.5177      3.181      2.363      0.030       0.806      14.229\n",
      "personality7_Agree strongly                -13.0215      8.062     -1.615      0.125     -30.031       3.988\n",
      "personality7_Disagree a little               3.9570      2.952      1.340      0.198      -2.272      10.186\n",
      "personality7_Disagree strongly              -0.8319      3.861     -0.215      0.832      -8.978       7.314\n",
      "personality7_Neither agree nor disagree      5.1924      2.774      1.872      0.079      -0.660      11.045\n",
      "personality8_Agree a little                 -0.6536      1.877     -0.348      0.732      -4.614       3.306\n",
      "personality8_Agree strongly                  1.7806      2.681      0.664      0.516      -3.877       7.438\n",
      "personality8_Disagree a little              -2.9591      3.688     -0.802      0.433     -10.740       4.822\n",
      "personality8_Neither agree nor disagree      4.6459      3.086      1.506      0.151      -1.865      11.157\n",
      "personality9_Agree a little                  3.5472      2.750      1.290      0.214      -2.255       9.349\n",
      "personality9_Agree strongly                 -1.5835      3.847     -0.412      0.686      -9.700       6.533\n",
      "personality9_Disagree a little               4.0423      2.829      1.429      0.171      -1.926      10.011\n",
      "personality9_Disagree strongly              -7.5496      3.917     -1.927      0.071     -15.815       0.715\n",
      "personality9_Neither agree nor disagree      4.3575      2.079      2.095      0.051      -0.030       8.745\n",
      "personality10_Agree a little                -3.3406      2.406     -1.388      0.183      -8.417       1.736\n",
      "personality10_Agree strongly                 1.4456      2.752      0.525      0.606      -4.360       7.251\n",
      "personality10_Disagree a little              0.7274      3.098      0.235      0.817      -5.809       7.263\n",
      "personality10_Neither agree nor disagree     3.9815      2.673      1.489      0.155      -1.659       9.622\n",
      "==============================================================================\n",
      "Omnibus:                        0.222   Durbin-Watson:                   1.465\n",
      "Prob(Omnibus):                  0.895   Jarque-Bera (JB):                0.051\n",
      "Skew:                           0.074   Prob(JB):                        0.975\n",
      "Kurtosis:                       2.998   Cond. No.                     1.18e+16\n",
      "==============================================================================\n",
      "\n",
      "Notes:\n",
      "[1] Standard Errors assume that the covariance matrix of the errors is correctly specified.\n",
      "[2] The smallest eigenvalue is 1.49e-30. This might indicate that there are\n",
      "strong multicollinearity problems or that the design matrix is singular.\n"
     ]
    }
   ],
   "source": [
    "ols_regression_personality(df[df[\"category\"]==1.0],'total score diff')"
   ]
  },
  {
   "cell_type": "markdown",
   "id": "2a7c7d52",
   "metadata": {},
   "source": [
    "## Threshold computation for draft study"
   ]
  },
  {
   "cell_type": "code",
   "execution_count": 554,
   "id": "37530edd",
   "metadata": {},
   "outputs": [],
   "source": [
    "def compute_mean_std(scores):\n",
    "    mean_score = np.mean(scores)\n",
    "    std_score = np.std(scores)\n",
    "    return mean_score, std_score\n",
    "\n",
    "def compute_thresholds(mean, std):\n",
    "    threshold1 = mean - std\n",
    "    threshold2 = mean + std\n",
    "    return threshold1, threshold2"
   ]
  },
  {
   "cell_type": "code",
   "execution_count": 555,
   "id": "1abe13d7",
   "metadata": {},
   "outputs": [
    {
     "name": "stdout",
     "output_type": "stream",
     "text": [
      "total score: 36.067 8.201832782982105\n",
      "theory score: 27.757 5.494110574060191\n",
      "practical score: 7.16 1.653602128687551\n"
     ]
    }
   ],
   "source": [
    "mean_theory_score, std_theory_score = compute_mean_std(df[\"theory score\"])\n",
    "mean_practical_score, std_practical_score = compute_mean_std(df[\"practical score\"])\n",
    "mean_total_score, std_total_score = compute_mean_std(df[\"total score\"])\n",
    "\n",
    "print(\"total score:\", mean_total_score, std_total_score)\n",
    "print(\"theory score:\", mean_theory_score, std_theory_score)\n",
    "print(\"practical score:\", mean_practical_score, std_practical_score)"
   ]
  },
  {
   "cell_type": "code",
   "execution_count": 556,
   "id": "e5008abb",
   "metadata": {},
   "outputs": [
    {
     "name": "stdout",
     "output_type": "stream",
     "text": [
      "total score: 27.865167217017895 44.2688327829821\n",
      "theory score: 22.26288942593981 33.25111057406019\n",
      "practical score: 5.5063978713124495 8.81360212868755\n"
     ]
    }
   ],
   "source": [
    "threshold1_theory, threshold2_theory = compute_thresholds(mean_theory_score, std_theory_score)\n",
    "threshold1_practical, threshold2_practical = compute_thresholds(mean_practical_score, std_practical_score)\n",
    "threshold1_total, threshold2_total = compute_thresholds(mean_total_score, std_total_score)\n",
    "\n",
    "print(\"total score:\", threshold1_total, threshold2_total)\n",
    "print(\"theory score:\", threshold1_theory, threshold2_theory)\n",
    "print(\"practical score:\", threshold1_practical, threshold2_practical)"
   ]
  }
 ],
 "metadata": {
  "kernelspec": {
   "display_name": "Python 3 (ipykernel)",
   "language": "python",
   "name": "python3"
  },
  "language_info": {
   "codemirror_mode": {
    "name": "ipython",
    "version": 3
   },
   "file_extension": ".py",
   "mimetype": "text/x-python",
   "name": "python",
   "nbconvert_exporter": "python",
   "pygments_lexer": "ipython3",
   "version": "3.9.13"
  }
 },
 "nbformat": 4,
 "nbformat_minor": 5
}
